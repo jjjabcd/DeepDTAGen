{
 "cells": [
  {
   "cell_type": "code",
   "execution_count": 1,
   "id": "0e0c4205",
   "metadata": {},
   "outputs": [],
   "source": [
    "import os\n",
    "import pandas as pd\n",
    "\n",
    "from rdkit.Chem import MolFromSmiles as smi2mol\n",
    "from rdkit.Chem import MolToSmiles as mol2smi"
   ]
  },
  {
   "cell_type": "code",
   "execution_count": 2,
   "id": "1e7ccf30",
   "metadata": {},
   "outputs": [],
   "source": [
    "data_path = 'data/anticancer_IC50_smi_fa.csv'\n",
    "\n",
    "df = pd.read_csv(data_path)"
   ]
  },
  {
   "cell_type": "code",
   "execution_count": null,
   "id": "d7ba1528",
   "metadata": {},
   "outputs": [],
   "source": [
    "def isomeric_smiles(smi):\n",
    "    mol = smi2mol(smi)\n",
    "    return mol2smi(mol, isomericSmiles=False)"
   ]
  },
  {
   "cell_type": "code",
   "execution_count": 4,
   "id": "6958d06e",
   "metadata": {},
   "outputs": [],
   "source": [
    "ori_df = df.copy()"
   ]
  },
  {
   "cell_type": "code",
   "execution_count": 5,
   "id": "b4d387f5",
   "metadata": {},
   "outputs": [],
   "source": [
    "df['isomeric_SMILES'] = df['SMILES'].apply(isomeric_smiles)"
   ]
  },
  {
   "cell_type": "code",
   "execution_count": 6,
   "id": "fa2688e9",
   "metadata": {},
   "outputs": [
    {
     "name": "stdout",
     "output_type": "stream",
     "text": [
      "CN(C)C/C=C/C(=O)Nc1cc2c(Nc3ccc(F)c(Cl)c3)ncnc2cc1O[C@H]1CCOC1\n"
     ]
    }
   ],
   "source": [
    "print(df['SMILES'][0])"
   ]
  },
  {
   "cell_type": "code",
   "execution_count": 7,
   "id": "a4c4c87f",
   "metadata": {},
   "outputs": [
    {
     "name": "stdout",
     "output_type": "stream",
     "text": [
      "CN(C)CC=CC(=O)Nc1cc2c(Nc3ccc(F)c(Cl)c3)ncnc2cc1OC1CCOC1\n"
     ]
    }
   ],
   "source": [
    "print(df['isomeric_SMILES'][0])"
   ]
  },
  {
   "cell_type": "code",
   "execution_count": 8,
   "id": "a721f40b",
   "metadata": {},
   "outputs": [
    {
     "name": "stdout",
     "output_type": "stream",
     "text": [
      "  Standard Type Standard Relation  Standard Value Standard Units  \\\n",
      "0          IC50                 =             6.0             nM   \n",
      "1          IC50                 =             2.0             nM   \n",
      "2          IC50                 =            11.0             nM   \n",
      "3          IC50                 =            15.0             nM   \n",
      "4          IC50                 =            14.0             nM   \n",
      "\n",
      "   Compound Key (molregno) compound_chembl_id Compound Name Assay ChEMBL ID  \\\n",
      "0                   650126      CHEMBL1173655      AFATINIB   CHEMBL1009318   \n",
      "1                   650126      CHEMBL1173655      AFATINIB   CHEMBL1009319   \n",
      "2                   650126      CHEMBL1173655      AFATINIB   CHEMBL1176122   \n",
      "3                   650126      CHEMBL1173655      AFATINIB   CHEMBL1176123   \n",
      "4                   650126      CHEMBL1173655      AFATINIB   CHEMBL2217239   \n",
      "\n",
      "                                   Assay Description Assay Organism  \\\n",
      "0                   Inhibition of EGFR by HTRF assay            NaN   \n",
      "1                  Inhibition of ERBb2 by HTRF assay            NaN   \n",
      "2  Inhibition of GST-tagged EGFR expressed in Esc...            NaN   \n",
      "3       Inhibition of EGFR L858R/T790M double mutant   Homo sapiens   \n",
      "4                                Inhibition of ErbB2            NaN   \n",
      "\n",
      "  target_chembl_id                              Target Name Target Organism  \\\n",
      "0        CHEMBL203   Epidermal growth factor receptor erbB1    Homo sapiens   \n",
      "1       CHEMBL1824  Receptor protein-tyrosine kinase erbB-2    Homo sapiens   \n",
      "2        CHEMBL203   Epidermal growth factor receptor erbB1    Homo sapiens   \n",
      "3        CHEMBL203   Epidermal growth factor receptor erbB1    Homo sapiens   \n",
      "4       CHEMBL1824  Receptor protein-tyrosine kinase erbB-2    Homo sapiens   \n",
      "\n",
      "      Target Type Document ChEMBL ID Cell ChEMBL ID  \\\n",
      "0  SINGLE PROTEIN      CHEMBL1139297            NaN   \n",
      "1  SINGLE PROTEIN      CHEMBL1139297            NaN   \n",
      "2  SINGLE PROTEIN      CHEMBL1177739            NaN   \n",
      "3  SINGLE PROTEIN      CHEMBL1177739            NaN   \n",
      "4  SINGLE PROTEIN      CHEMBL2216750            NaN   \n",
      "\n",
      "                                    canonical_SMILES  \\\n",
      "0  CN(C)C/C=C/C(=O)Nc1cc2c(Nc3ccc(F)c(Cl)c3)ncnc2...   \n",
      "1  CN(C)C/C=C/C(=O)Nc1cc2c(Nc3ccc(F)c(Cl)c3)ncnc2...   \n",
      "2  CN(C)C/C=C/C(=O)Nc1cc2c(Nc3ccc(F)c(Cl)c3)ncnc2...   \n",
      "3  CN(C)C/C=C/C(=O)Nc1cc2c(Nc3ccc(F)c(Cl)c3)ncnc2...   \n",
      "4  CN(C)C/C=C/C(=O)Nc1cc2c(Nc3ccc(F)c(Cl)c3)ncnc2...   \n",
      "\n",
      "                                               FASTA  \\\n",
      "0  MRPSGTAGAALLALLAALCPASRALEEKKVCQGTSNKLTQLGTFED...   \n",
      "1  MELAALCRWGLLLALLPPGAASTQVCTGTDMKLRLPASPETHLDML...   \n",
      "2  MRPSGTAGAALLALLAALCPASRALEEKKVCQGTSNKLTQLGTFED...   \n",
      "3  MRPSGTAGAALLALLAALCPASRALEEKKVCQGTSNKLTQLGTFED...   \n",
      "4  MELAALCRWGLLLALLPPGAASTQVCTGTDMKLRLPASPETHLDML...   \n",
      "\n",
      "                                     isomeric_SMILES  \n",
      "0  CN(C)CC=CC(=O)Nc1cc2c(Nc3ccc(F)c(Cl)c3)ncnc2cc...  \n",
      "1  CN(C)CC=CC(=O)Nc1cc2c(Nc3ccc(F)c(Cl)c3)ncnc2cc...  \n",
      "2  CN(C)CC=CC(=O)Nc1cc2c(Nc3ccc(F)c(Cl)c3)ncnc2cc...  \n",
      "3  CN(C)CC=CC(=O)Nc1cc2c(Nc3ccc(F)c(Cl)c3)ncnc2cc...  \n",
      "4  CN(C)CC=CC(=O)Nc1cc2c(Nc3ccc(F)c(Cl)c3)ncnc2cc...  \n"
     ]
    }
   ],
   "source": [
    "df.rename(columns={\"SMILES\": \"canonical_SMILES\"}, inplace=True)\n",
    "\n",
    "print(df.head())"
   ]
  },
  {
   "cell_type": "code",
   "execution_count": 9,
   "id": "227003f7",
   "metadata": {},
   "outputs": [],
   "source": [
    "df.to_csv('data/anticancer_IC50.csv', index=False)"
   ]
  },
  {
   "cell_type": "code",
   "execution_count": 10,
   "metadata": {},
   "outputs": [
    {
     "name": "stdout",
     "output_type": "stream",
     "text": [
      "14 85\n"
     ]
    }
   ],
   "source": [
    "num_drug = df['compound_chembl_id'].nunique()\n",
    "\n",
    "num_protein = df['target_chembl_id'].nunique()\n",
    "\n",
    "print(num_drug, num_protein)"
   ]
  },
  {
   "cell_type": "code",
   "execution_count": null,
   "id": "6da1bfa6",
   "metadata": {},
   "outputs": [],
   "source": []
  }
 ],
 "metadata": {
  "kernelspec": {
   "display_name": "Python 3 (ipykernel)",
   "language": "python",
   "name": "python3"
  }
 },
 "nbformat": 4,
 "nbformat_minor": 5
}
