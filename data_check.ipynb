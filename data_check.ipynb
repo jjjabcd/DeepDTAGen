{
 "cells": [
  {
   "cell_type": "code",
   "execution_count": null,
   "id": "a6b03e44",
   "metadata": {},
   "outputs": [],
   "source": [
    "import os\n",
    "import torch\n",
    "from collections.abc import Mapping, Sequence"
   ]
  },
  {
   "cell_type": "code",
   "execution_count": null,
   "id": "9a8e96e6",
   "metadata": {},
   "outputs": [],
   "source": [
    "def preview_pt(path: str, max_items: int = 1):\n",
    "    \"\"\"\n",
    "    torch.save로 저장된 .pt 파일을 일반적으로 살펴보기 위한 유틸리티.\n",
    "    - PyG 형식 (data, slices)\n",
    "    - dict / list / tuple / 텐서 등 모두 안전하게 프린트\n",
    "    \"\"\"\n",
    "    obj = torch.load(path, map_location=\"cpu\")\n",
    "    print(f\"[LOAD] {path}\")\n",
    "    print(f\" - type: {type(obj)}\")\n",
    "\n",
    "    if isinstance(obj, Mapping):\n",
    "        keys = list(obj.keys())\n",
    "        print(f\" - dict keys: {keys[:10]}\")\n",
    "        for k in keys[:10]:\n",
    "            v = obj[k]\n",
    "            v_type = type(v)\n",
    "            print(f\"   • {k}: {v_type}\")\n",
    "            if isinstance(v, torch.Tensor):\n",
    "                print(f\"     tensor shape={tuple(v.shape)}, dtype={v.dtype}\")\n",
    "        return obj\n",
    "\n",
    "    if isinstance(obj, tuple) and len(obj) == 2:\n",
    "        data, slices = obj\n",
    "        print(\" - tuple(len=2) detected: likely (data, slices) for PyG InMemoryDataset\")\n",
    "        print(f\"   • data type: {type(data)}\")\n",
    "        print(f\"   • slices type: {type(slices)}\")\n",
    "        try:\n",
    "            print(\"   • data preview:\", data)\n",
    "        except Exception as e:\n",
    "            print(\"   • data preview error:\", e)\n",
    "        if isinstance(slices, Mapping):\n",
    "            print(\"   • slice keys:\", list(slices.keys())[:10])\n",
    "        return obj\n",
    "\n",
    "    if isinstance(obj, Sequence) and not isinstance(obj, (str, bytes, bytearray)):\n",
    "        print(f\" - sequence length: {len(obj)}\")\n",
    "        for i in range(min(len(obj), max_items)):\n",
    "            item = obj[i]\n",
    "            print(f\"   • [{i}] type: {type(item)}\")\n",
    "            try:\n",
    "                print(f\"     preview: {item}\")\n",
    "            except Exception:\n",
    "                pass\n",
    "        return obj\n",
    "\n",
    "    if isinstance(obj, torch.Tensor):\n",
    "        print(f\" - tensor shape={tuple(obj.shape)}, dtype={obj.dtype}\")\n",
    "    else:\n",
    "        print(\" - preview:\", obj)\n",
    "    return obj"
   ]
  },
  {
   "cell_type": "code",
   "execution_count": null,
   "id": "de62e7ae",
   "metadata": {},
   "outputs": [
    {
     "name": "stdout",
     "output_type": "stream",
     "text": [
      "[PATH]\n",
      " - train: data/processed/kiba_train.pt exists: True\n",
      " - test : data/processed/kiba_test.pt exists: True\n"
     ]
    }
   ],
   "source": [
    "base_dir = \"data/processed\"\n",
    "dataset = \"kiba\"\n",
    "train_path = os.path.join(base_dir, f\"{dataset}_train.pt\")\n",
    "test_path  = os.path.join(base_dir, f\"{dataset}_test.pt\")\n",
    "\n",
    "print(\"[PATH]\")\n",
    "print(\" - train:\", train_path, \"exists:\", os.path.exists(train_path))\n",
    "print(\" - test :\", test_path,  \"exists:\", os.path.exists(test_path))"
   ]
  },
  {
   "cell_type": "code",
   "execution_count": null,
   "id": "66949473",
   "metadata": {},
   "outputs": [
    {
     "name": "stdout",
     "output_type": "stream",
     "text": [
      "\n",
      "===== TRAIN =====\n",
      "[LOAD] data/processed/kiba_train.pt\n",
      " - type: <class 'tuple'>\n",
      " - tuple(len=2) detected: likely (data, slices) for PyG InMemoryDataset\n",
      "   • data type: <class 'torch_geometric.data.data.Data'>\n",
      "   • slices type: <class 'collections.defaultdict'>\n",
      "   • data preview: Data(x=[2675861, 94], edge_index=[2, 5918434], edge_attr=[5918434, 5], y=[98733], target=[98733, 1000], target_seq=[98733, 132], c_size=[98733])\n",
      "   • slice keys: ['x', 'edge_index', 'edge_attr', 'y', 'target', 'target_seq', 'c_size']\n",
      "\n",
      "===== TEST =====\n",
      "[LOAD] data/processed/kiba_test.pt\n",
      " - type: <class 'tuple'>\n",
      " - tuple(len=2) detected: likely (data, slices) for PyG InMemoryDataset\n",
      "   • data type: <class 'torch_geometric.data.data.Data'>\n",
      "   • slices type: <class 'collections.defaultdict'>\n",
      "   • data preview: Data(x=[532067, 94], edge_index=[2, 1177458], edge_attr=[1177458, 5], y=[19653], target=[19653, 1000], target_seq=[19653, 132], c_size=[19653])\n",
      "   • slice keys: ['x', 'edge_index', 'edge_attr', 'y', 'target', 'target_seq', 'c_size']\n"
     ]
    }
   ],
   "source": [
    "print(\"\\n===== TRAIN =====\")\n",
    "train_obj = preview_pt(train_path)\n",
    "\n",
    "print(\"\\n===== TEST =====\")\n",
    "test_obj = preview_pt(test_path)"
   ]
  },
  {
   "cell_type": "code",
   "execution_count": null,
   "id": "d5c61fa5",
   "metadata": {},
   "outputs": [],
   "source": []
  },
  {
   "cell_type": "code",
   "execution_count": null,
   "id": "4b1a853a",
   "metadata": {},
   "outputs": [],
   "source": []
  }
 ],
 "metadata": {
  "kernelspec": {
   "display_name": "Python 3 (ipykernel)",
   "language": "python",
   "name": "python3"
  },
  "language_info": {
   "codemirror_mode": {
    "name": "ipython",
    "version": 3
   },
   "file_extension": ".py",
   "mimetype": "text/x-python",
   "name": "python",
   "nbconvert_exporter": "python",
   "pygments_lexer": "ipython3",
   "version": "3.8.20"
  }
 },
 "nbformat": 4,
 "nbformat_minor": 5
}
